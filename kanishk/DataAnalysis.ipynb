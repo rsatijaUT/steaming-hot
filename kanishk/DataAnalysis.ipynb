{
 "cells": [
  {
   "cell_type": "code",
   "execution_count": 6,
   "id": "b117e829-8ecc-4be0-814b-888c8119160f",
   "metadata": {},
   "outputs": [],
   "source": [
    "import pandas as pd\n",
    "import numpy as np\n",
    "import matplotlib.pyplot as plt\n",
    "from datetime import datetime\n",
    "%matplotlib widget"
   ]
  },
  {
   "cell_type": "code",
   "execution_count": 2,
   "id": "dfbdc5d4-cebe-4c5c-be0c-93a727a91346",
   "metadata": {},
   "outputs": [],
   "source": [
    "cdata = pd.read_csv('games-features-metacritic-new.csv')\n",
    "owners = pd.read_csv('steamspy_owners.csv')\n",
    "scharts = pd.read_csv('Long_GamesData.csv')\n",
    "# meta = pd.read_csv('steamspy_metascore.csv')\n",
    "\n",
    "# meta = meta.rename(columns={'0':'MetaScore'})\n",
    "owners = owners.rename(columns={'0':'Owners'})\n",
    "\n",
    "scharts = scharts.rename(columns={'App_id':'QueryID'})\n",
    "scharts = scharts[scharts.Avg_Players==1.0]"
   ]
  },
  {
   "cell_type": "code",
   "execution_count": 8,
   "id": "0c24aad1-4282-40fc-8b3e-c98591c0ff20",
   "metadata": {},
   "outputs": [],
   "source": [
    "s1 = pd.merge(cdata, owners, how='inner', on=['QueryID'])\n",
    "# s1 = pd.merge(s1, meta, how='inner', on=['QueryID'])\n",
    "\n",
    "s1 = s1[s1.Owners>0]\n",
    "s1 = s1[s1.Metacritic>0]\n",
    "s1 = s1[~s1.IsFree]\n",
    "s1 = s1[s1[['PriceInitial', 'PriceFinal']].mean(axis=1)>0.]"
   ]
  },
  {
   "cell_type": "code",
   "execution_count": 9,
   "id": "0fde712a-e9e0-4f83-b34f-47dfb30524bd",
   "metadata": {},
   "outputs": [
    {
     "data": {
      "application/vnd.jupyter.widget-view+json": {
       "model_id": "1d2b97bac94740838686eff71c8f2afe",
       "version_major": 2,
       "version_minor": 0
      },
      "text/plain": [
       "Canvas(toolbar=Toolbar(toolitems=[('Home', 'Reset original view', 'home', 'home'), ('Back', 'Back to previous …"
      ]
     },
     "metadata": {},
     "output_type": "display_data"
    }
   ],
   "source": [
    "fig, ax = plt.subplots(figsize=(10,6))\n",
    "fig.subplots_adjust(bottom=0.2)\n",
    "genres = [i for i in s1.columns if 'Genre' in i]\n",
    "\n",
    "total = 0\n",
    "for i,g in enumerate(genres):\n",
    "    ax.bar(i, s1[g].sum())\n",
    "    total += s1[g].sum()\n",
    "    \n",
    "ax.set_xticks([i for i in range(len(genres))])\n",
    "_ = ax.set_xticklabels([i.split('Is')[1] for i in genres], rotation=45)\n"
   ]
  },
  {
   "cell_type": "code",
   "execution_count": 10,
   "id": "15756c53-b790-4229-b4a9-84f0a918ad77",
   "metadata": {},
   "outputs": [],
   "source": [
    "# s1 = s1[s1.PCReqsHaveMin]\n",
    "\n",
    "s1 = s1[['QueryID', 'QueryName', 'ReleaseDate', 'Metacritic', 'Owners', 'RecommendationCount', 'PackageCount', 'MovieCount', \n",
    "        'ScreenshotCount', 'DemoCount', 'AchievementCount', 'PriceInitial', 'PriceFinal']]\n",
    "\n",
    "s1['PriceMean'] = s1[['PriceInitial', 'PriceFinal']].mean(axis=1)\n",
    "s1['logOwners'] = np.log10(s1['Owners'])\n",
    "s1['Revenue'] = s1['Owners']*s1['PriceMean']\n",
    "\n",
    "s1['logRevenue'] = np.log10(s1['Revenue'])\n",
    "\n",
    "s1 = s1[s1['ReleaseDate'] != ' ']\n",
    "s1[s1['ReleaseDate'] == 'Spring 2017'] = '2017-03-01'\n",
    "s1[s1['ReleaseDate'] == 'Early 2017'] = '2017-03-01'\n",
    "s1['ReleaseDate'] = s1['ReleaseDate'].astype('datetime64')\n",
    "s1['TodaysDate'] = datetime(2021, 5, 20)\n",
    "\n",
    "\n",
    "s1['Age'] = ((s1.TodaysDate - s1.ReleaseDate)/np.timedelta64(1, 'M'))"
   ]
  },
  {
   "cell_type": "code",
   "execution_count": 21,
   "id": "36a19a51-6193-4474-b6e7-24454d1a5f8b",
   "metadata": {},
   "outputs": [
    {
     "ename": "ValueError",
     "evalue": "Number of columns must be a positive integer, not 0",
     "output_type": "error",
     "traceback": [
      "\u001b[0;31m---------------------------------------------------------------------------\u001b[0m",
      "\u001b[0;31mValueError\u001b[0m                                Traceback (most recent call last)",
      "\u001b[0;32m<ipython-input-21-fe6c6c7f67f8>\u001b[0m in \u001b[0;36m<module>\u001b[0;34m\u001b[0m\n\u001b[1;32m      1\u001b[0m \u001b[0mget_ipython\u001b[0m\u001b[0;34m(\u001b[0m\u001b[0;34m)\u001b[0m\u001b[0;34m.\u001b[0m\u001b[0mrun_line_magic\u001b[0m\u001b[0;34m(\u001b[0m\u001b[0;34m'matplotlib'\u001b[0m\u001b[0;34m,\u001b[0m \u001b[0;34m'inline'\u001b[0m\u001b[0;34m)\u001b[0m\u001b[0;34m\u001b[0m\u001b[0;34m\u001b[0m\u001b[0m\n\u001b[1;32m      2\u001b[0m \u001b[0;34m\u001b[0m\u001b[0m\n\u001b[0;32m----> 3\u001b[0;31m \u001b[0m_\u001b[0m \u001b[0;34m=\u001b[0m \u001b[0mpd\u001b[0m\u001b[0;34m.\u001b[0m\u001b[0mplotting\u001b[0m\u001b[0;34m.\u001b[0m\u001b[0mscatter_matrix\u001b[0m\u001b[0;34m(\u001b[0m\u001b[0ms1\u001b[0m\u001b[0;34m[\u001b[0m\u001b[0;34m[\u001b[0m\u001b[0;34m'Metacritic'\u001b[0m\u001b[0;34m,\u001b[0m \u001b[0;34m'PackageCount'\u001b[0m\u001b[0;34m,\u001b[0m \u001b[0;34m'MovieCount'\u001b[0m\u001b[0;34m,\u001b[0m \u001b[0;34m'ScreenshotCount'\u001b[0m\u001b[0;34m,\u001b[0m \u001b[0;34m'DemoCount'\u001b[0m\u001b[0;34m,\u001b[0m \u001b[0;34m'AchievementCount'\u001b[0m\u001b[0;34m,\u001b[0m \u001b[0;34m'PriceMean'\u001b[0m\u001b[0;34m,\u001b[0m \u001b[0;34m'Owners'\u001b[0m\u001b[0;34m,\u001b[0m \u001b[0;34m'logOwners'\u001b[0m\u001b[0;34m,\u001b[0m \u001b[0;34m'Revenue'\u001b[0m\u001b[0;34m,\u001b[0m \u001b[0;34m'logRevenue'\u001b[0m\u001b[0;34m]\u001b[0m\u001b[0;34m]\u001b[0m\u001b[0;34m)\u001b[0m\u001b[0;34m\u001b[0m\u001b[0;34m\u001b[0m\u001b[0m\n\u001b[0m\u001b[1;32m      4\u001b[0m \u001b[0;34m\u001b[0m\u001b[0m\n\u001b[1;32m      5\u001b[0m \u001b[0;31m# [a.set_xlabel(a.get_xlabel(), fontsize=5) for a in _.flatten()]\u001b[0m\u001b[0;34m\u001b[0m\u001b[0;34m\u001b[0m\u001b[0;34m\u001b[0m\u001b[0m\n",
      "\u001b[0;32m~/miniconda3/envs/erdos/lib/python3.8/site-packages/pandas/plotting/_misc.py\u001b[0m in \u001b[0;36mscatter_matrix\u001b[0;34m(frame, alpha, figsize, ax, grid, diagonal, marker, density_kwds, hist_kwds, range_padding, **kwargs)\u001b[0m\n\u001b[1;32m    126\u001b[0m     \"\"\"\n\u001b[1;32m    127\u001b[0m     \u001b[0mplot_backend\u001b[0m \u001b[0;34m=\u001b[0m \u001b[0m_get_plot_backend\u001b[0m\u001b[0;34m(\u001b[0m\u001b[0;34m\"matplotlib\"\u001b[0m\u001b[0;34m)\u001b[0m\u001b[0;34m\u001b[0m\u001b[0;34m\u001b[0m\u001b[0m\n\u001b[0;32m--> 128\u001b[0;31m     return plot_backend.scatter_matrix(\n\u001b[0m\u001b[1;32m    129\u001b[0m         \u001b[0mframe\u001b[0m\u001b[0;34m=\u001b[0m\u001b[0mframe\u001b[0m\u001b[0;34m,\u001b[0m\u001b[0;34m\u001b[0m\u001b[0;34m\u001b[0m\u001b[0m\n\u001b[1;32m    130\u001b[0m         \u001b[0malpha\u001b[0m\u001b[0;34m=\u001b[0m\u001b[0malpha\u001b[0m\u001b[0;34m,\u001b[0m\u001b[0;34m\u001b[0m\u001b[0;34m\u001b[0m\u001b[0m\n",
      "\u001b[0;32m~/miniconda3/envs/erdos/lib/python3.8/site-packages/pandas/plotting/_matplotlib/misc.py\u001b[0m in \u001b[0;36mscatter_matrix\u001b[0;34m(frame, alpha, figsize, ax, grid, diagonal, marker, density_kwds, hist_kwds, range_padding, **kwds)\u001b[0m\n\u001b[1;32m     37\u001b[0m     \u001b[0mn\u001b[0m \u001b[0;34m=\u001b[0m \u001b[0mdf\u001b[0m\u001b[0;34m.\u001b[0m\u001b[0mcolumns\u001b[0m\u001b[0;34m.\u001b[0m\u001b[0msize\u001b[0m\u001b[0;34m\u001b[0m\u001b[0;34m\u001b[0m\u001b[0m\n\u001b[1;32m     38\u001b[0m     \u001b[0mnaxes\u001b[0m \u001b[0;34m=\u001b[0m \u001b[0mn\u001b[0m \u001b[0;34m*\u001b[0m \u001b[0mn\u001b[0m\u001b[0;34m\u001b[0m\u001b[0;34m\u001b[0m\u001b[0m\n\u001b[0;32m---> 39\u001b[0;31m     \u001b[0mfig\u001b[0m\u001b[0;34m,\u001b[0m \u001b[0maxes\u001b[0m \u001b[0;34m=\u001b[0m \u001b[0mcreate_subplots\u001b[0m\u001b[0;34m(\u001b[0m\u001b[0mnaxes\u001b[0m\u001b[0;34m=\u001b[0m\u001b[0mnaxes\u001b[0m\u001b[0;34m,\u001b[0m \u001b[0mfigsize\u001b[0m\u001b[0;34m=\u001b[0m\u001b[0mfigsize\u001b[0m\u001b[0;34m,\u001b[0m \u001b[0max\u001b[0m\u001b[0;34m=\u001b[0m\u001b[0max\u001b[0m\u001b[0;34m,\u001b[0m \u001b[0msqueeze\u001b[0m\u001b[0;34m=\u001b[0m\u001b[0;32mFalse\u001b[0m\u001b[0;34m)\u001b[0m\u001b[0;34m\u001b[0m\u001b[0;34m\u001b[0m\u001b[0m\n\u001b[0m\u001b[1;32m     40\u001b[0m \u001b[0;34m\u001b[0m\u001b[0m\n\u001b[1;32m     41\u001b[0m     \u001b[0;31m# no gaps between subplots\u001b[0m\u001b[0;34m\u001b[0m\u001b[0;34m\u001b[0m\u001b[0;34m\u001b[0m\u001b[0m\n",
      "\u001b[0;32m~/miniconda3/envs/erdos/lib/python3.8/site-packages/pandas/plotting/_matplotlib/tools.py\u001b[0m in \u001b[0;36mcreate_subplots\u001b[0;34m(naxes, sharex, sharey, squeeze, subplot_kw, ax, layout, layout_type, **fig_kw)\u001b[0m\n\u001b[1;32m    242\u001b[0m \u001b[0;34m\u001b[0m\u001b[0m\n\u001b[1;32m    243\u001b[0m     \u001b[0;31m# Create first subplot separately, so we can share it if requested\u001b[0m\u001b[0;34m\u001b[0m\u001b[0;34m\u001b[0m\u001b[0;34m\u001b[0m\u001b[0m\n\u001b[0;32m--> 244\u001b[0;31m     \u001b[0max0\u001b[0m \u001b[0;34m=\u001b[0m \u001b[0mfig\u001b[0m\u001b[0;34m.\u001b[0m\u001b[0madd_subplot\u001b[0m\u001b[0;34m(\u001b[0m\u001b[0mnrows\u001b[0m\u001b[0;34m,\u001b[0m \u001b[0mncols\u001b[0m\u001b[0;34m,\u001b[0m \u001b[0;36m1\u001b[0m\u001b[0;34m,\u001b[0m \u001b[0;34m**\u001b[0m\u001b[0msubplot_kw\u001b[0m\u001b[0;34m)\u001b[0m\u001b[0;34m\u001b[0m\u001b[0;34m\u001b[0m\u001b[0m\n\u001b[0m\u001b[1;32m    245\u001b[0m \u001b[0;34m\u001b[0m\u001b[0m\n\u001b[1;32m    246\u001b[0m     \u001b[0;32mif\u001b[0m \u001b[0msharex\u001b[0m\u001b[0;34m:\u001b[0m\u001b[0;34m\u001b[0m\u001b[0;34m\u001b[0m\u001b[0m\n",
      "\u001b[0;32m~/miniconda3/envs/erdos/lib/python3.8/site-packages/matplotlib/figure.py\u001b[0m in \u001b[0;36madd_subplot\u001b[0;34m(self, *args, **kwargs)\u001b[0m\n\u001b[1;32m    779\u001b[0m             projection_class, pkw = self._process_projection_requirements(\n\u001b[1;32m    780\u001b[0m                 *args, **kwargs)\n\u001b[0;32m--> 781\u001b[0;31m             \u001b[0max\u001b[0m \u001b[0;34m=\u001b[0m \u001b[0msubplot_class_factory\u001b[0m\u001b[0;34m(\u001b[0m\u001b[0mprojection_class\u001b[0m\u001b[0;34m)\u001b[0m\u001b[0;34m(\u001b[0m\u001b[0mself\u001b[0m\u001b[0;34m,\u001b[0m \u001b[0;34m*\u001b[0m\u001b[0margs\u001b[0m\u001b[0;34m,\u001b[0m \u001b[0;34m**\u001b[0m\u001b[0mpkw\u001b[0m\u001b[0;34m)\u001b[0m\u001b[0;34m\u001b[0m\u001b[0;34m\u001b[0m\u001b[0m\n\u001b[0m\u001b[1;32m    782\u001b[0m             \u001b[0mkey\u001b[0m \u001b[0;34m=\u001b[0m \u001b[0;34m(\u001b[0m\u001b[0mprojection_class\u001b[0m\u001b[0;34m,\u001b[0m \u001b[0mpkw\u001b[0m\u001b[0;34m)\u001b[0m\u001b[0;34m\u001b[0m\u001b[0;34m\u001b[0m\u001b[0m\n\u001b[1;32m    783\u001b[0m         \u001b[0;32mreturn\u001b[0m \u001b[0mself\u001b[0m\u001b[0;34m.\u001b[0m\u001b[0m_add_axes_internal\u001b[0m\u001b[0;34m(\u001b[0m\u001b[0max\u001b[0m\u001b[0;34m,\u001b[0m \u001b[0mkey\u001b[0m\u001b[0;34m)\u001b[0m\u001b[0;34m\u001b[0m\u001b[0;34m\u001b[0m\u001b[0m\n",
      "\u001b[0;32m~/miniconda3/envs/erdos/lib/python3.8/site-packages/matplotlib/axes/_subplots.py\u001b[0m in \u001b[0;36m__init__\u001b[0;34m(self, fig, *args, **kwargs)\u001b[0m\n\u001b[1;32m     36\u001b[0m         \u001b[0mself\u001b[0m\u001b[0;34m.\u001b[0m\u001b[0m_axes_class\u001b[0m\u001b[0;34m.\u001b[0m\u001b[0m__init__\u001b[0m\u001b[0;34m(\u001b[0m\u001b[0mself\u001b[0m\u001b[0;34m,\u001b[0m \u001b[0mfig\u001b[0m\u001b[0;34m,\u001b[0m \u001b[0;34m[\u001b[0m\u001b[0;36m0\u001b[0m\u001b[0;34m,\u001b[0m \u001b[0;36m0\u001b[0m\u001b[0;34m,\u001b[0m \u001b[0;36m1\u001b[0m\u001b[0;34m,\u001b[0m \u001b[0;36m1\u001b[0m\u001b[0;34m]\u001b[0m\u001b[0;34m,\u001b[0m \u001b[0;34m**\u001b[0m\u001b[0mkwargs\u001b[0m\u001b[0;34m)\u001b[0m\u001b[0;34m\u001b[0m\u001b[0;34m\u001b[0m\u001b[0m\n\u001b[1;32m     37\u001b[0m         \u001b[0;31m# This will also update the axes position.\u001b[0m\u001b[0;34m\u001b[0m\u001b[0;34m\u001b[0m\u001b[0;34m\u001b[0m\u001b[0m\n\u001b[0;32m---> 38\u001b[0;31m         \u001b[0mself\u001b[0m\u001b[0;34m.\u001b[0m\u001b[0mset_subplotspec\u001b[0m\u001b[0;34m(\u001b[0m\u001b[0mSubplotSpec\u001b[0m\u001b[0;34m.\u001b[0m\u001b[0m_from_subplot_args\u001b[0m\u001b[0;34m(\u001b[0m\u001b[0mfig\u001b[0m\u001b[0;34m,\u001b[0m \u001b[0margs\u001b[0m\u001b[0;34m)\u001b[0m\u001b[0;34m)\u001b[0m\u001b[0;34m\u001b[0m\u001b[0;34m\u001b[0m\u001b[0m\n\u001b[0m\u001b[1;32m     39\u001b[0m \u001b[0;34m\u001b[0m\u001b[0m\n\u001b[1;32m     40\u001b[0m     \u001b[0;32mdef\u001b[0m \u001b[0m__reduce__\u001b[0m\u001b[0;34m(\u001b[0m\u001b[0mself\u001b[0m\u001b[0;34m)\u001b[0m\u001b[0;34m:\u001b[0m\u001b[0;34m\u001b[0m\u001b[0;34m\u001b[0m\u001b[0m\n",
      "\u001b[0;32m~/miniconda3/envs/erdos/lib/python3.8/site-packages/matplotlib/gridspec.py\u001b[0m in \u001b[0;36m_from_subplot_args\u001b[0;34m(figure, args)\u001b[0m\n\u001b[1;32m    639\u001b[0m                 \u001b[0m_api\u001b[0m\u001b[0;34m.\u001b[0m\u001b[0mwarn_deprecated\u001b[0m\u001b[0;34m(\u001b[0m\u001b[0;34m\"3.3\"\u001b[0m\u001b[0;34m,\u001b[0m \u001b[0mmessage\u001b[0m\u001b[0;34m=\u001b[0m\u001b[0mmessage\u001b[0m\u001b[0;34m)\u001b[0m\u001b[0;34m\u001b[0m\u001b[0;34m\u001b[0m\u001b[0m\n\u001b[1;32m    640\u001b[0m                 \u001b[0mrows\u001b[0m\u001b[0;34m,\u001b[0m \u001b[0mcols\u001b[0m \u001b[0;34m=\u001b[0m \u001b[0mmap\u001b[0m\u001b[0;34m(\u001b[0m\u001b[0mint\u001b[0m\u001b[0;34m,\u001b[0m \u001b[0;34m[\u001b[0m\u001b[0mrows\u001b[0m\u001b[0;34m,\u001b[0m \u001b[0mcols\u001b[0m\u001b[0;34m]\u001b[0m\u001b[0;34m)\u001b[0m\u001b[0;34m\u001b[0m\u001b[0;34m\u001b[0m\u001b[0m\n\u001b[0;32m--> 641\u001b[0;31m             \u001b[0mgs\u001b[0m \u001b[0;34m=\u001b[0m \u001b[0mGridSpec\u001b[0m\u001b[0;34m(\u001b[0m\u001b[0mrows\u001b[0m\u001b[0;34m,\u001b[0m \u001b[0mcols\u001b[0m\u001b[0;34m,\u001b[0m \u001b[0mfigure\u001b[0m\u001b[0;34m=\u001b[0m\u001b[0mfigure\u001b[0m\u001b[0;34m)\u001b[0m\u001b[0;34m\u001b[0m\u001b[0;34m\u001b[0m\u001b[0m\n\u001b[0m\u001b[1;32m    642\u001b[0m             \u001b[0;32mif\u001b[0m \u001b[0misinstance\u001b[0m\u001b[0;34m(\u001b[0m\u001b[0mnum\u001b[0m\u001b[0;34m,\u001b[0m \u001b[0mtuple\u001b[0m\u001b[0;34m)\u001b[0m \u001b[0;32mand\u001b[0m \u001b[0mlen\u001b[0m\u001b[0;34m(\u001b[0m\u001b[0mnum\u001b[0m\u001b[0;34m)\u001b[0m \u001b[0;34m==\u001b[0m \u001b[0;36m2\u001b[0m\u001b[0;34m:\u001b[0m\u001b[0;34m\u001b[0m\u001b[0;34m\u001b[0m\u001b[0m\n\u001b[1;32m    643\u001b[0m                 \u001b[0;32mif\u001b[0m \u001b[0;32mnot\u001b[0m \u001b[0mall\u001b[0m\u001b[0;34m(\u001b[0m\u001b[0misinstance\u001b[0m\u001b[0;34m(\u001b[0m\u001b[0mn\u001b[0m\u001b[0;34m,\u001b[0m \u001b[0mIntegral\u001b[0m\u001b[0;34m)\u001b[0m \u001b[0;32mfor\u001b[0m \u001b[0mn\u001b[0m \u001b[0;32min\u001b[0m \u001b[0mnum\u001b[0m\u001b[0;34m)\u001b[0m\u001b[0;34m:\u001b[0m\u001b[0;34m\u001b[0m\u001b[0;34m\u001b[0m\u001b[0m\n",
      "\u001b[0;32m~/miniconda3/envs/erdos/lib/python3.8/site-packages/matplotlib/gridspec.py\u001b[0m in \u001b[0;36m__init__\u001b[0;34m(self, nrows, ncols, figure, left, bottom, right, top, wspace, hspace, width_ratios, height_ratios)\u001b[0m\n\u001b[1;32m    395\u001b[0m         \u001b[0mself\u001b[0m\u001b[0;34m.\u001b[0m\u001b[0mfigure\u001b[0m \u001b[0;34m=\u001b[0m \u001b[0mfigure\u001b[0m\u001b[0;34m\u001b[0m\u001b[0;34m\u001b[0m\u001b[0m\n\u001b[1;32m    396\u001b[0m \u001b[0;34m\u001b[0m\u001b[0m\n\u001b[0;32m--> 397\u001b[0;31m         super().__init__(nrows, ncols,\n\u001b[0m\u001b[1;32m    398\u001b[0m                          \u001b[0mwidth_ratios\u001b[0m\u001b[0;34m=\u001b[0m\u001b[0mwidth_ratios\u001b[0m\u001b[0;34m,\u001b[0m\u001b[0;34m\u001b[0m\u001b[0;34m\u001b[0m\u001b[0m\n\u001b[1;32m    399\u001b[0m                          height_ratios=height_ratios)\n",
      "\u001b[0;32m~/miniconda3/envs/erdos/lib/python3.8/site-packages/matplotlib/gridspec.py\u001b[0m in \u001b[0;36m__init__\u001b[0;34m(self, nrows, ncols, height_ratios, width_ratios)\u001b[0m\n\u001b[1;32m     50\u001b[0m                 f\"Number of rows must be a positive integer, not {nrows}\")\n\u001b[1;32m     51\u001b[0m         \u001b[0;32mif\u001b[0m \u001b[0;32mnot\u001b[0m \u001b[0misinstance\u001b[0m\u001b[0;34m(\u001b[0m\u001b[0mncols\u001b[0m\u001b[0;34m,\u001b[0m \u001b[0mIntegral\u001b[0m\u001b[0;34m)\u001b[0m \u001b[0;32mor\u001b[0m \u001b[0mncols\u001b[0m \u001b[0;34m<=\u001b[0m \u001b[0;36m0\u001b[0m\u001b[0;34m:\u001b[0m\u001b[0;34m\u001b[0m\u001b[0;34m\u001b[0m\u001b[0m\n\u001b[0;32m---> 52\u001b[0;31m             raise ValueError(\n\u001b[0m\u001b[1;32m     53\u001b[0m                 f\"Number of columns must be a positive integer, not {ncols}\")\n\u001b[1;32m     54\u001b[0m         \u001b[0mself\u001b[0m\u001b[0;34m.\u001b[0m\u001b[0m_nrows\u001b[0m\u001b[0;34m,\u001b[0m \u001b[0mself\u001b[0m\u001b[0;34m.\u001b[0m\u001b[0m_ncols\u001b[0m \u001b[0;34m=\u001b[0m \u001b[0mnrows\u001b[0m\u001b[0;34m,\u001b[0m \u001b[0mncols\u001b[0m\u001b[0;34m\u001b[0m\u001b[0;34m\u001b[0m\u001b[0m\n",
      "\u001b[0;31mValueError\u001b[0m: Number of columns must be a positive integer, not 0"
     ]
    },
    {
     "data": {
      "text/plain": [
       "<Figure size 640x480 with 0 Axes>"
      ]
     },
     "metadata": {},
     "output_type": "display_data"
    }
   ],
   "source": [
    "%matplotlib inline\n",
    "\n",
    "_ = pd.plotting.scatter_matrix(s1[['Metacritic', 'PackageCount', 'MovieCount', 'ScreenshotCount', 'DemoCount', 'AchievementCount', 'PriceMean', 'Owners', 'logOwners', 'Revenue', 'logRevenue']])\n",
    "\n",
    "# [a.set_xlabel(a.get_xlabel(), fontsize=5) for a in _.flatten()]\n",
    "# _ = [a.set_ylabel(a.get_ylabel(), fontsize=7) for a in _.flatten()]"
   ]
  },
  {
   "cell_type": "code",
   "execution_count": 18,
   "id": "ad2edb68-ca76-43dd-9116-096001bc4f22",
   "metadata": {},
   "outputs": [
    {
     "data": {
      "text/plain": [
       "0        184105710.0\n",
       "2         30733410.0\n",
       "6         91578330.0\n",
       "7         91638270.0\n",
       "8         91638270.0\n",
       "            ...     \n",
       "57153     13555480.0\n",
       "57168     70454340.0\n",
       "57172     26593350.0\n",
       "57176     11156280.0\n",
       "57209      5497250.0\n",
       "Name: Revenue, Length: 3068, dtype: object"
      ]
     },
     "execution_count": 18,
     "metadata": {},
     "output_type": "execute_result"
    }
   ],
   "source": [
    "s1.Revenue.mee"
   ]
  },
  {
   "cell_type": "code",
   "execution_count": 72,
   "id": "4ab3ac5e-cc88-48fb-96c7-474720bd0bf5",
   "metadata": {},
   "outputs": [
    {
     "data": {
      "text/plain": [
       "1768820.0"
      ]
     },
     "execution_count": 72,
     "metadata": {},
     "output_type": "execute_result"
    }
   ],
   "source": [
    "s1.Revenue.quantile(0.5)"
   ]
  },
  {
   "cell_type": "code",
   "execution_count": 70,
   "id": "2cee1484-92ce-4d2e-b5fe-49becf6eaa62",
   "metadata": {},
   "outputs": [
    {
     "data": {
      "application/vnd.jupyter.widget-view+json": {
       "model_id": "dd027ff39c714f8882ae92cfe1f51493",
       "version_major": 2,
       "version_minor": 0
      },
      "text/plain": [
       "Canvas(toolbar=Toolbar(toolitems=[('Home', 'Reset original view', 'home', 'home'), ('Back', 'Back to previous …"
      ]
     },
     "metadata": {},
     "output_type": "display_data"
    }
   ],
   "source": [
    "fig, ax = plt.subplots()\n",
    "_ = s1.Revenue.hist(bins=100)"
   ]
  },
  {
   "cell_type": "markdown",
   "id": "afa63e40-0ee6-4198-b31f-f14802f50084",
   "metadata": {},
   "source": [
    "# Models"
   ]
  },
  {
   "cell_type": "code",
   "execution_count": 10,
   "id": "e262ee1d-151a-4681-bd65-46edd26b8321",
   "metadata": {},
   "outputs": [
    {
     "data": {
      "text/html": [
       "<div>\n",
       "<style scoped>\n",
       "    .dataframe tbody tr th:only-of-type {\n",
       "        vertical-align: middle;\n",
       "    }\n",
       "\n",
       "    .dataframe tbody tr th {\n",
       "        vertical-align: top;\n",
       "    }\n",
       "\n",
       "    .dataframe thead th {\n",
       "        text-align: right;\n",
       "    }\n",
       "</style>\n",
       "<table border=\"1\" class=\"dataframe\">\n",
       "  <thead>\n",
       "    <tr style=\"text-align: right;\">\n",
       "      <th></th>\n",
       "      <th>QueryID</th>\n",
       "      <th>QueryName</th>\n",
       "      <th>Metacritic</th>\n",
       "      <th>Owners</th>\n",
       "      <th>RecommendationCount</th>\n",
       "      <th>PackageCount</th>\n",
       "      <th>MovieCount</th>\n",
       "      <th>ScreenshotCount</th>\n",
       "      <th>DemoCount</th>\n",
       "      <th>AchievementCount</th>\n",
       "      <th>PriceInitial</th>\n",
       "      <th>PriceFinal</th>\n",
       "      <th>PriceMean</th>\n",
       "      <th>logOwners</th>\n",
       "      <th>Revenue</th>\n",
       "      <th>logRevenue</th>\n",
       "    </tr>\n",
       "  </thead>\n",
       "  <tbody>\n",
       "    <tr>\n",
       "      <th>0</th>\n",
       "      <td>10</td>\n",
       "      <td>Counter-Strike</td>\n",
       "      <td>88</td>\n",
       "      <td>18429000.0</td>\n",
       "      <td>68991</td>\n",
       "      <td>1</td>\n",
       "      <td>0</td>\n",
       "      <td>13</td>\n",
       "      <td>0</td>\n",
       "      <td>0</td>\n",
       "      <td>9.99</td>\n",
       "      <td>9.99</td>\n",
       "      <td>9.99</td>\n",
       "      <td>7.265502</td>\n",
       "      <td>184105710.0</td>\n",
       "      <td>8.265067</td>\n",
       "    </tr>\n",
       "    <tr>\n",
       "      <th>2</th>\n",
       "      <td>30</td>\n",
       "      <td>Day of Defeat</td>\n",
       "      <td>79</td>\n",
       "      <td>6159000.0</td>\n",
       "      <td>2319</td>\n",
       "      <td>1</td>\n",
       "      <td>0</td>\n",
       "      <td>5</td>\n",
       "      <td>0</td>\n",
       "      <td>0</td>\n",
       "      <td>4.99</td>\n",
       "      <td>4.99</td>\n",
       "      <td>4.99</td>\n",
       "      <td>6.789510</td>\n",
       "      <td>30733410.0</td>\n",
       "      <td>7.487611</td>\n",
       "    </tr>\n",
       "    <tr>\n",
       "      <th>6</th>\n",
       "      <td>70</td>\n",
       "      <td>Half-Life</td>\n",
       "      <td>96</td>\n",
       "      <td>9167000.0</td>\n",
       "      <td>12486</td>\n",
       "      <td>1</td>\n",
       "      <td>0</td>\n",
       "      <td>11</td>\n",
       "      <td>0</td>\n",
       "      <td>0</td>\n",
       "      <td>9.99</td>\n",
       "      <td>9.99</td>\n",
       "      <td>9.99</td>\n",
       "      <td>6.962227</td>\n",
       "      <td>91578330.0</td>\n",
       "      <td>7.961793</td>\n",
       "    </tr>\n",
       "    <tr>\n",
       "      <th>7</th>\n",
       "      <td>80</td>\n",
       "      <td>Counter-Strike: Condition Zero</td>\n",
       "      <td>65</td>\n",
       "      <td>9173000.0</td>\n",
       "      <td>7067</td>\n",
       "      <td>1</td>\n",
       "      <td>0</td>\n",
       "      <td>8</td>\n",
       "      <td>0</td>\n",
       "      <td>0</td>\n",
       "      <td>9.99</td>\n",
       "      <td>9.99</td>\n",
       "      <td>9.99</td>\n",
       "      <td>6.962511</td>\n",
       "      <td>91638270.0</td>\n",
       "      <td>7.962077</td>\n",
       "    </tr>\n",
       "    <tr>\n",
       "      <th>8</th>\n",
       "      <td>80</td>\n",
       "      <td>Counter-Strike: Condition Zero</td>\n",
       "      <td>65</td>\n",
       "      <td>9173000.0</td>\n",
       "      <td>7067</td>\n",
       "      <td>1</td>\n",
       "      <td>0</td>\n",
       "      <td>8</td>\n",
       "      <td>0</td>\n",
       "      <td>0</td>\n",
       "      <td>9.99</td>\n",
       "      <td>9.99</td>\n",
       "      <td>9.99</td>\n",
       "      <td>6.962511</td>\n",
       "      <td>91638270.0</td>\n",
       "      <td>7.962077</td>\n",
       "    </tr>\n",
       "  </tbody>\n",
       "</table>\n",
       "</div>"
      ],
      "text/plain": [
       "   QueryID                       QueryName  Metacritic      Owners  \\\n",
       "0       10                  Counter-Strike          88  18429000.0   \n",
       "2       30                   Day of Defeat          79   6159000.0   \n",
       "6       70                       Half-Life          96   9167000.0   \n",
       "7       80  Counter-Strike: Condition Zero          65   9173000.0   \n",
       "8       80  Counter-Strike: Condition Zero          65   9173000.0   \n",
       "\n",
       "   RecommendationCount  PackageCount  MovieCount  ScreenshotCount  DemoCount  \\\n",
       "0                68991             1           0               13          0   \n",
       "2                 2319             1           0                5          0   \n",
       "6                12486             1           0               11          0   \n",
       "7                 7067             1           0                8          0   \n",
       "8                 7067             1           0                8          0   \n",
       "\n",
       "   AchievementCount  PriceInitial  PriceFinal  PriceMean  logOwners  \\\n",
       "0                 0          9.99        9.99       9.99   7.265502   \n",
       "2                 0          4.99        4.99       4.99   6.789510   \n",
       "6                 0          9.99        9.99       9.99   6.962227   \n",
       "7                 0          9.99        9.99       9.99   6.962511   \n",
       "8                 0          9.99        9.99       9.99   6.962511   \n",
       "\n",
       "       Revenue  logRevenue  \n",
       "0  184105710.0    8.265067  \n",
       "2   30733410.0    7.487611  \n",
       "6   91578330.0    7.961793  \n",
       "7   91638270.0    7.962077  \n",
       "8   91638270.0    7.962077  "
      ]
     },
     "execution_count": 10,
     "metadata": {},
     "output_type": "execute_result"
    }
   ],
   "source": [
    "s1.head()"
   ]
  },
  {
   "cell_type": "code",
   "execution_count": 13,
   "id": "0732ce1a-cea2-4b5e-adf4-6952b508b550",
   "metadata": {},
   "outputs": [],
   "source": [
    "from sklearn.tree import DecisionTreeRegressor\n",
    "from sklearn.model_selection import train_test_split\n",
    "from datetime import datetime"
   ]
  },
  {
   "cell_type": "code",
   "execution_count": 77,
   "id": "c6982c37-504a-4e7e-ad45-7e3c2d6027f7",
   "metadata": {},
   "outputs": [],
   "source": [
    "X = s1[['Age', 'Owners', 'PackageCount', 'MovieCount', 'ScreenshotCount', 'DemoCount', 'AchievementCount', 'PriceInitial', 'PriceFinal', 'PriceMean']].values\n",
    "y = s1['Revenue']\n"
   ]
  },
  {
   "cell_type": "code",
   "execution_count": 78,
   "id": "e398cac4-fb02-4951-b3ec-5aa155e01e7f",
   "metadata": {},
   "outputs": [],
   "source": [
    "X_train, X_test, y_train, y_test = train_test_split(X, y, shuffle=True, random_state=440)"
   ]
  },
  {
   "cell_type": "code",
   "execution_count": 79,
   "id": "4beacb5c-d9c9-43e3-a911-c55710db8540",
   "metadata": {},
   "outputs": [
    {
     "data": {
      "text/plain": [
       "(769, 9)"
      ]
     },
     "execution_count": 79,
     "metadata": {},
     "output_type": "execute_result"
    }
   ],
   "source": [
    "X_test.shape"
   ]
  },
  {
   "cell_type": "code",
   "execution_count": 80,
   "id": "a216f8ca-5a30-4f31-a5e2-0f33d9cbda98",
   "metadata": {},
   "outputs": [],
   "source": [
    "tree = DecisionTreeRegressor()"
   ]
  },
  {
   "cell_type": "code",
   "execution_count": 81,
   "id": "e64e5b4c-25da-460d-bca0-7f23bc31f874",
   "metadata": {},
   "outputs": [
    {
     "data": {
      "text/plain": [
       "DecisionTreeRegressor()"
      ]
     },
     "execution_count": 81,
     "metadata": {},
     "output_type": "execute_result"
    }
   ],
   "source": [
    "tree.fit(X_train, y_train, )"
   ]
  },
  {
   "cell_type": "code",
   "execution_count": 82,
   "id": "7efb22e5-aef6-40c0-b8bb-289ec837f305",
   "metadata": {},
   "outputs": [],
   "source": [
    "preds = tree.predict(X_test)"
   ]
  },
  {
   "cell_type": "code",
   "execution_count": 83,
   "id": "e4984cfb-68bb-48f9-8d0f-1091c27072fc",
   "metadata": {},
   "outputs": [
    {
     "data": {
      "text/plain": [
       "209.76202860858257"
      ]
     },
     "execution_count": 83,
     "metadata": {},
     "output_type": "execute_result"
    }
   ],
   "source": [
    "np.square(preds-y_test).mean()"
   ]
  },
  {
   "cell_type": "code",
   "execution_count": 84,
   "id": "92f39044-5f38-4843-9e9c-24f81cbd12fc",
   "metadata": {},
   "outputs": [
    {
     "data": {
      "application/vnd.jupyter.widget-view+json": {
       "model_id": "6ead2ed891154d65bb792473767a49cc",
       "version_major": 2,
       "version_minor": 0
      },
      "text/plain": [
       "Canvas(toolbar=Toolbar(toolitems=[('Home', 'Reset original view', 'home', 'home'), ('Back', 'Back to previous …"
      ]
     },
     "metadata": {},
     "output_type": "display_data"
    },
    {
     "data": {
      "text/plain": [
       "<matplotlib.collections.PathCollection at 0x7fc0a2f734c0>"
      ]
     },
     "execution_count": 84,
     "metadata": {},
     "output_type": "execute_result"
    }
   ],
   "source": [
    "fig, ax = plt.subplots()\n",
    "ax.scatter(np.arange(len(preds)), preds, color='firebrick', alpha=0.6)\n",
    "ax.scatter(np.arange(len(preds)), y_test, color='royalblue', alpha=0.6)"
   ]
  },
  {
   "cell_type": "code",
   "execution_count": null,
   "id": "6bcd7933-ac30-44fc-9e38-ef007a7f1005",
   "metadata": {},
   "outputs": [],
   "source": [
    "ax.set_ylim([0,])"
   ]
  },
  {
   "cell_type": "code",
   "execution_count": 86,
   "id": "93018b18-8cec-4fc9-bb83-fec4efdcb5ad",
   "metadata": {},
   "outputs": [
    {
     "data": {
      "application/vnd.jupyter.widget-view+json": {
       "model_id": "0edb845695e3459d902dffefe2f26292",
       "version_major": 2,
       "version_minor": 0
      },
      "text/plain": [
       "Canvas(toolbar=Toolbar(toolitems=[('Home', 'Reset original view', 'home', 'home'), ('Back', 'Back to previous …"
      ]
     },
     "metadata": {},
     "output_type": "display_data"
    }
   ],
   "source": [
    "err = preds-y_test\n",
    "fig, ax = plt.subplots()\n",
    "_ = ax.hist(err, bins=100, edgecolor='k')\n",
    "# ax.set_ylim([0,10])"
   ]
  },
  {
   "cell_type": "code",
   "execution_count": null,
   "id": "adc9e956-16c0-4588-ade5-c9d1f942e6bc",
   "metadata": {},
   "outputs": [],
   "source": []
  },
  {
   "cell_type": "code",
   "execution_count": null,
   "id": "1bb66f35-7b17-4de1-9bea-4ccb32811164",
   "metadata": {},
   "outputs": [],
   "source": []
  },
  {
   "cell_type": "code",
   "execution_count": null,
   "id": "77e6f6f0-b36d-4a13-9c7a-34d7e397dd98",
   "metadata": {},
   "outputs": [],
   "source": []
  },
  {
   "cell_type": "code",
   "execution_count": null,
   "id": "10642614-13ff-4153-9966-8a3f29b7609c",
   "metadata": {},
   "outputs": [],
   "source": []
  },
  {
   "cell_type": "code",
   "execution_count": null,
   "id": "4dfba4bb-9906-4d1c-b3ef-315435232b94",
   "metadata": {},
   "outputs": [],
   "source": []
  },
  {
   "cell_type": "markdown",
   "id": "f44b2060-c113-4af4-8ead-cbe59003f83e",
   "metadata": {},
   "source": [
    "# Timeseries"
   ]
  },
  {
   "cell_type": "code",
   "execution_count": 56,
   "id": "ebc46cf0-c4f3-491b-935e-a769e19ab8df",
   "metadata": {},
   "outputs": [],
   "source": [
    "ts = pd.merge(s1, scharts, how='inner', on=['QueryID'])\n"
   ]
  },
  {
   "cell_type": "code",
   "execution_count": 59,
   "id": "c2790961-51b4-4746-9b99-ce4de5f18563",
   "metadata": {
    "tags": []
   },
   "outputs": [
    {
     "data": {
      "application/vnd.jupyter.widget-view+json": {
       "model_id": "11a99df463104317ab8db343b694e0b3",
       "version_major": 2,
       "version_minor": 0
      },
      "text/plain": [
       "Canvas(toolbar=Toolbar(toolitems=[('Home', 'Reset original view', 'home', 'home'), ('Back', 'Back to previous …"
      ]
     },
     "metadata": {},
     "output_type": "display_data"
    },
    {
     "name": "stderr",
     "output_type": "stream",
     "text": [
      "<ipython-input-59-3e0764f18712>:20: UserWarning: FixedFormatter should only be used together with FixedLocator\n",
      "  _ = ax.set_xticklabels(months, rotation=90)\n"
     ]
    }
   ],
   "source": [
    "fig, ax = plt.subplots()\n",
    "\n",
    "columnind = np.where(ts.columns=='April_2021')[0][0]\n",
    "months = ts.columns.values[columnind:]\n",
    "\n",
    "plotted = 0\n",
    "for i in range(len(ts)):\n",
    "    if not cdata[cdata['QueryID']==ts.loc[i]['QueryID']]['GenreIsIndie'].values[0]:\n",
    "        continue\n",
    "    vals = ts.loc[i].values[columnind:].astype(float)\n",
    "    if not np.isfinite(vals).all():\n",
    "        nanind = np.where(~np.isfinite(vals))[0][0]\n",
    "    else:\n",
    "        nanind = len(vals)\n",
    "    ax.plot(vals[:nanind][::-1], label=ts['QueryName'][i])\n",
    "    plotted += 1\n",
    "    if plotted > 9:\n",
    "        break\n",
    "fig.legend(loc='upper center', fontsize=7)\n",
    "_ = ax.set_xticklabels(months, rotation=90)"
   ]
  },
  {
   "cell_type": "code",
   "execution_count": null,
   "id": "31bf8ac1-6b71-4f62-a110-e63d983449f3",
   "metadata": {},
   "outputs": [],
   "source": []
  },
  {
   "cell_type": "code",
   "execution_count": null,
   "id": "cadc9728-59c1-424a-b1ed-fe0733cf0999",
   "metadata": {},
   "outputs": [],
   "source": []
  },
  {
   "cell_type": "code",
   "execution_count": null,
   "id": "d9bb0822-b14a-40ee-ba45-5d8996fb7dfb",
   "metadata": {},
   "outputs": [],
   "source": []
  }
 ],
 "metadata": {
  "kernelspec": {
   "display_name": "Python 3",
   "language": "python",
   "name": "python3"
  },
  "language_info": {
   "codemirror_mode": {
    "name": "ipython",
    "version": 3
   },
   "file_extension": ".py",
   "mimetype": "text/x-python",
   "name": "python",
   "nbconvert_exporter": "python",
   "pygments_lexer": "ipython3",
   "version": "3.8.8"
  }
 },
 "nbformat": 4,
 "nbformat_minor": 5
}
