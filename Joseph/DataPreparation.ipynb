{
 "cells": [
  {
   "cell_type": "markdown",
   "metadata": {},
   "source": [
    "# Data Preparation\n",
    "\n",
    "In this notebook, we clean our timeseries data and get them ready for analysis."
   ]
  },
  {
   "cell_type": "code",
   "execution_count": 10,
   "metadata": {},
   "outputs": [],
   "source": [
    "import pandas as pd\n",
    "import numpy as np\n",
    "import random"
   ]
  },
  {
   "cell_type": "code",
   "execution_count": 3,
   "metadata": {},
   "outputs": [],
   "source": [
    "# Get time series data:\n",
    "timedata = pd.read_csv('SteamCharts.csv',low_memory=False)\n",
    "\n",
    "# Replace inf to NaN:\n",
    "timedata = timedata.replace({np.inf:np.nan})\n",
    "timedata = timedata.replace({'+Inf':np.nan})"
   ]
  },
  {
   "cell_type": "code",
   "execution_count": 4,
   "metadata": {},
   "outputs": [],
   "source": [
    "# Get Avg_Players.\n",
    "avg_players = timedata.loc[timedata['Avg_Players']==1].reset_index(drop=True)\n",
    "avg_pure = avg_players.drop(columns=['App_id', 'Name', 'Avg_Players', 'Gain', 'Perc_Gain', 'Peak_Players',\n",
    "       'Last 30 Days']).astype(float)\n",
    "\n",
    "avg_players['max'] = avg_pure.max(axis=1)\n",
    "avg_pure = avg_pure.drop(avg_players.loc[avg_players['max']<=0].index).drop(avg_players.loc[avg_players['max'].isna()==True].index)\n",
    "avg_pure = avg_pure.reset_index(drop=True)\n",
    "\n",
    "avg_players = avg_players.drop(avg_players.loc[avg_players['max']<=0].index).drop(avg_players.loc[avg_players['max'].isna()==True].index)\n",
    "avg_players = avg_players.reset_index(drop=True)\n",
    "\n",
    "birth = [avg_pure.iloc[i].last_valid_index() for i in range(len(avg_pure))]\n",
    "avg_players['birth']=birth"
   ]
  },
  {
   "cell_type": "markdown",
   "metadata": {},
   "source": [
    "Select games with\n",
    "- max of avg_players is larger than or equal to 10,\n",
    "- release time between July 2012 and March 2021, and\n",
    "- no 'NaN' in between the time series. "
   ]
  },
  {
   "cell_type": "code",
   "execution_count": 5,
   "metadata": {},
   "outputs": [],
   "source": [
    "#Select games with max of avg_players >=10\n",
    "\n",
    "avg1 = avg_players.loc[avg_players['max']>=10]\n",
    "avg_pure1 = avg_pure.loc[avg_players['max']>=10]\n",
    "\n",
    "\n",
    "#Select games with release time between July 2012 and March 2021\n",
    "\n",
    "avg1 = avg1.loc[avg_players['birth']!='July 2012']\n",
    "avg1 = avg1.loc[avg_players['birth']!='March 2021']\n",
    "avg1 = avg1.loc[avg_players['birth']!='April 2021'].reset_index(drop=True)\n",
    "\n",
    "avg_pure1 = avg_pure1.loc[avg_players['birth']!='July 2012']\n",
    "avg_pure1 = avg_pure1.loc[avg_players['birth']!='March 2021']\n",
    "avg_pure1 = avg_pure1.loc[avg_players['birth']!='April 2021'].reset_index(drop=True)\n",
    "\n",
    "\n",
    "#Select games with no NaN data in between\n",
    "\n",
    "incomplete_data = []\n",
    "for i in range(len(avg1)):\n",
    "    temp = avg_pure1.iloc[i]\n",
    "    if np.isnan(temp[temp.first_valid_index():temp.last_valid_index()]).any():\n",
    "        incomplete_data.append(i)\n",
    "len(incomplete_data)\n",
    "\n",
    "avg2 = avg1.drop(incomplete_data).reset_index(drop=True)\n",
    "avg_pure2 = avg_pure1.drop(incomplete_data).reset_index(drop=True)"
   ]
  },
  {
   "cell_type": "code",
   "execution_count": 6,
   "metadata": {},
   "outputs": [
    {
     "data": {
      "text/plain": [
       "5703"
      ]
     },
     "execution_count": 6,
     "metadata": {},
     "output_type": "execute_result"
    }
   ],
   "source": [
    "len(avg2)"
   ]
  },
  {
   "cell_type": "markdown",
   "metadata": {},
   "source": [
    "There are 5703 such games, and we save them into the following csv files."
   ]
  },
  {
   "cell_type": "code",
   "execution_count": 7,
   "metadata": {},
   "outputs": [],
   "source": [
    "avg2.to_csv('Average_PLayers_Cleaned.csv')\n",
    "avg_pure2.to_csv('Average_PLayers_Pure_Cleaned.csv')"
   ]
  },
  {
   "cell_type": "markdown",
   "metadata": {},
   "source": [
    "For our purpose of predicting **6**-month horizon using **12**-month data, we select games with at least 18-month data."
   ]
  },
  {
   "cell_type": "code",
   "execution_count": 7,
   "metadata": {},
   "outputs": [],
   "source": [
    "#dropping datas with less than 18 months\n",
    "data = avg2.copy()\n",
    "data_pure = avg_pure2.copy()\n",
    "list1 = []\n",
    "for i in range(len(data)):\n",
    "    if len(data_pure.iloc[i][data_pure.iloc[i].first_valid_index():data_pure.iloc[i].last_valid_index()])<18:\n",
    "        list1.append(i)\n",
    "data=data.drop(index = list1).reset_index(drop=True)\n",
    "data_pure=data_pure.drop(index = list1).reset_index(drop=True)"
   ]
  },
  {
   "cell_type": "code",
   "execution_count": 13,
   "metadata": {},
   "outputs": [],
   "source": [
    "data.to_csv('data18m.csv')\n",
    "data_pure.to_csv('data18m_pure.csv')"
   ]
  },
  {
   "cell_type": "code",
   "execution_count": 8,
   "metadata": {},
   "outputs": [
    {
     "name": "stdout",
     "output_type": "stream",
     "text": [
      "There are in total 4289 games with 18-month data.\n"
     ]
    }
   ],
   "source": [
    "print('There are in total ' + str(len(data)) + ' games with 18-month data.')"
   ]
  },
  {
   "cell_type": "markdown",
   "metadata": {},
   "source": [
    "### Train Test Split"
   ]
  },
  {
   "cell_type": "code",
   "execution_count": 11,
   "metadata": {},
   "outputs": [],
   "source": [
    "# Train test split\n",
    "test_index = random.sample(range(len(data)),int(len(data)/4))\n",
    "test = data.iloc[test_index]\n",
    "test_pure = data_pure.iloc[test_index]\n",
    "train = data.drop(test_index)\n",
    "train_pure = data_pure.drop(test_index)"
   ]
  },
  {
   "cell_type": "code",
   "execution_count": 12,
   "metadata": {},
   "outputs": [],
   "source": [
    "# For accuracy comparison with the basic methods, we save our train test split\n",
    "train.to_csv('Training_data.csv')\n",
    "train_pure.to_csv('Training_data_pure.csv')\n",
    "test.to_csv('Test_data.csv')\n",
    "test_pure.to_csv('Test_data_pure.csv')"
   ]
  },
  {
   "cell_type": "code",
   "execution_count": null,
   "metadata": {},
   "outputs": [],
   "source": []
  }
 ],
 "metadata": {
  "kernelspec": {
   "display_name": "Python 3",
   "language": "python",
   "name": "python3"
  },
  "language_info": {
   "codemirror_mode": {
    "name": "ipython",
    "version": 3
   },
   "file_extension": ".py",
   "mimetype": "text/x-python",
   "name": "python",
   "nbconvert_exporter": "python",
   "pygments_lexer": "ipython3",
   "version": "3.8.5"
  }
 },
 "nbformat": 4,
 "nbformat_minor": 4
}
